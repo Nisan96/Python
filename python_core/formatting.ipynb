{
 "cells": [
  {
   "cell_type": "markdown",
   "metadata": {},
   "source": [
    "# String Formatting"
   ]
  },
  {
   "cell_type": "code",
   "execution_count": 2,
   "metadata": {},
   "outputs": [],
   "source": [
    "name = 'Ashraf Nisan'\n",
    "age = 27\n",
    "w = 58.56"
   ]
  },
  {
   "cell_type": "code",
   "execution_count": 2,
   "metadata": {},
   "outputs": [
    {
     "name": "stdout",
     "output_type": "stream",
     "text": [
      "Name: Ashraf Nisan Age: 27 Weight: 58.56\n"
     ]
    }
   ],
   "source": [
    "print('Name:',name, 'Age:',age, 'Weight:',w)"
   ]
  },
  {
   "cell_type": "code",
   "execution_count": 3,
   "metadata": {},
   "outputs": [
    {
     "name": "stdout",
     "output_type": "stream",
     "text": [
      "Name:Ashraf Nisan Age:27 Weight:58.56\n"
     ]
    }
   ],
   "source": [
    "print('Name:{0} Age:{1} Weight:{2}'.format(name,age,w))"
   ]
  },
  {
   "cell_type": "code",
   "execution_count": 4,
   "metadata": {},
   "outputs": [
    {
     "name": "stdout",
     "output_type": "stream",
     "text": [
      "Name:Ashraf Nisan Age:27 Weight:58.56\n"
     ]
    }
   ],
   "source": [
    "print('Name:{1} Age:{0} Weight:{2}'.format(age,name,w))"
   ]
  },
  {
   "cell_type": "code",
   "execution_count": 8,
   "metadata": {},
   "outputs": [
    {
     "name": "stdout",
     "output_type": "stream",
     "text": [
      "Name: Ashraf Nisan Age: 27 Weight: 58.560000\n"
     ]
    }
   ],
   "source": [
    "print('Name: %s Age: %d Weight: %f' %(name,age,w))"
   ]
  },
  {
   "cell_type": "code",
   "execution_count": 9,
   "metadata": {},
   "outputs": [
    {
     "name": "stdout",
     "output_type": "stream",
     "text": [
      "Name: Ashraf Nisan Age: 27 Weight: 58.560\n"
     ]
    }
   ],
   "source": [
    "print('Name: %s Age: %d Weight: %.3f' %(name,age,w))"
   ]
  },
  {
   "cell_type": "code",
   "execution_count": 10,
   "metadata": {},
   "outputs": [
    {
     "name": "stdout",
     "output_type": "stream",
     "text": [
      "Name:Ashraf Nisan Age:27 Weight:58.56\n"
     ]
    }
   ],
   "source": [
    "print(f'Name:{name} Age:{age} Weight:{w}')"
   ]
  },
  {
   "cell_type": "code",
   "execution_count": 11,
   "metadata": {},
   "outputs": [
    {
     "name": "stdout",
     "output_type": "stream",
     "text": [
      "Name:Ashraf Nisan Age:25 Weight:58.560\n"
     ]
    }
   ],
   "source": [
    "print(f'Name:{name} Age:{age-2} Weight:{w:.3f}')"
   ]
  },
  {
   "cell_type": "code",
   "execution_count": 12,
   "metadata": {},
   "outputs": [
    {
     "name": "stdout",
     "output_type": "stream",
     "text": [
      "Name:Ashraf Nisan Age:25 Weight:59\n"
     ]
    }
   ],
   "source": [
    "print(f'Name:{name} Age:{age-2} Weight:{round(w)}')"
   ]
  }
 ],
 "metadata": {
  "kernelspec": {
   "display_name": "Python 3.10.5 64-bit",
   "language": "python",
   "name": "python3"
  },
  "language_info": {
   "codemirror_mode": {
    "name": "ipython",
    "version": 3
   },
   "file_extension": ".py",
   "mimetype": "text/x-python",
   "name": "python",
   "nbconvert_exporter": "python",
   "pygments_lexer": "ipython3",
   "version": "3.10.5"
  },
  "orig_nbformat": 4,
  "vscode": {
   "interpreter": {
    "hash": "369f2c481f4da34e4445cda3fffd2e751bd1c4d706f27375911949ba6bb62e1c"
   }
  }
 },
 "nbformat": 4,
 "nbformat_minor": 2
}
