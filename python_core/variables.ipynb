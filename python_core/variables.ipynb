{
 "cells": [
  {
   "cell_type": "markdown",
   "metadata": {},
   "source": [
    "# Types"
   ]
  },
  {
   "cell_type": "markdown",
   "metadata": {},
   "source": [
    "## String"
   ]
  },
  {
   "cell_type": "code",
   "execution_count": 17,
   "metadata": {},
   "outputs": [
    {
     "name": "stdout",
     "output_type": "stream",
     "text": [
      "<class 'str'>\n",
      "<class 'str'>\n"
     ]
    }
   ],
   "source": [
    "var1 = \"python_core\"\n",
    "var2 = 'java'\n",
    "print(type(var1))\n",
    "print(type(var2))"
   ]
  },
  {
   "cell_type": "code",
   "execution_count": 18,
   "metadata": {},
   "outputs": [
    {
     "data": {
      "text/plain": [
       "'python_core'"
      ]
     },
     "execution_count": 18,
     "metadata": {},
     "output_type": "execute_result"
    }
   ],
   "source": [
    "var1"
   ]
  },
  {
   "cell_type": "code",
   "execution_count": 24,
   "metadata": {},
   "outputs": [
    {
     "data": {
      "text/plain": [
       "''"
      ]
     },
     "execution_count": 24,
     "metadata": {},
     "output_type": "execute_result"
    }
   ],
   "source": [
    "#Slicing [start:stop:step]\n",
    "var1[1]\n",
    "var1[0:6]\n",
    "var2[-1:-4]\n",
    "var1[6:]\n",
    "var1[::2]\n",
    "var2[::-1]\n",
    "var2[-1:-4]\n",
    "var2[-1:-4:1]"
   ]
  },
  {
   "cell_type": "code",
   "execution_count": 2,
   "metadata": {},
   "outputs": [
    {
     "data": {
      "text/plain": [
       "'ashrafnisan'"
      ]
     },
     "execution_count": 2,
     "metadata": {},
     "output_type": "execute_result"
    }
   ],
   "source": [
    "var = 'ashrafnisan'\n",
    "var"
   ]
  },
  {
   "cell_type": "code",
   "execution_count": 14,
   "metadata": {},
   "outputs": [
    {
     "name": "stdout",
     "output_type": "stream",
     "text": [
      "nsnaha\n",
      "nisa\n",
      "nisan\n",
      "nasinfarhsa\n",
      "ashrafnisan\n",
      "ashrafnisan\n"
     ]
    }
   ],
   "source": [
    "print(var[-1::-2])\n",
    "print(var[-5:-1])\n",
    "print(var[-5:])\n",
    "print(var[::-1])\n",
    "print(var[::1])\n",
    "print(var[::])"
   ]
  },
  {
   "cell_type": "markdown",
   "metadata": {},
   "source": [
    "# Methods Of String"
   ]
  },
  {
   "cell_type": "code",
   "execution_count": 43,
   "metadata": {},
   "outputs": [
    {
     "name": "stdout",
     "output_type": "stream",
     "text": [
      "ASHRAF NISAN NAYAN\n",
      "ashraf nisan nayan\n",
      "Ashraf nisan nayan\n",
      "Ashraf Nisan Nayan\n",
      "aSHRAF nISAN NAYAN\n",
      "5\n",
      "3\n",
      "['Ashraf', 'Nisan', 'nayan']\n"
     ]
    }
   ],
   "source": [
    "mos = 'Ashraf Nisan nayan'\n",
    "print(mos.upper())\n",
    "print(mos.lower())\n",
    "print(mos.capitalize())\n",
    "print(mos.title())\n",
    "print(mos.swapcase())\n",
    "print(mos.find('f Ni'))\n",
    "print(mos.count('n'))\n",
    "print(mos.split())"
   ]
  },
  {
   "cell_type": "code",
   "execution_count": 52,
   "metadata": {},
   "outputs": [
    {
     "name": "stdout",
     "output_type": "stream",
     "text": [
      "False\n",
      "True\n",
      "True\n",
      "False\n",
      "['nayanassassinator94@gmail.com']\n",
      "['nayanassassinator94', 'gmail.com']\n",
      "['', 'aya', 'assassi', 'ator94@gmail.com']\n",
      "nayanaffaffinator94@gmail.com\n",
      "nayanassassinator94@yahoo.com\n",
      "nayanassassinator94@gmail.com\n",
      "nayanassassinator94@yahoo.com\n",
      "20\n"
     ]
    }
   ],
   "source": [
    "email = 'nayanassassinator94@gmail.com'\n",
    "print(email.endswith('nayan'))\n",
    "print(email.endswith('@gmail.com'))\n",
    "print(email.startswith('nayan'))\n",
    "print(email.startswith('Nayan'))\n",
    "print(email.split())\n",
    "print(email.split('@'))\n",
    "print(email.split('n'))\n",
    "print(email.replace('s','f'))\n",
    "print(email.replace('gmail','yahoo'))\n",
    "print(email)\n",
    "email = email.replace('gmail','yahoo')\n",
    "print(email)\n",
    "print(email.index('yahoo'))"
   ]
  }
 ],
 "metadata": {
  "kernelspec": {
   "display_name": "Python 3.10.5 64-bit",
   "language": "python",
   "name": "python3"
  },
  "language_info": {
   "codemirror_mode": {
    "name": "ipython",
    "version": 3
   },
   "file_extension": ".py",
   "mimetype": "text/x-python",
   "name": "python",
   "nbconvert_exporter": "python",
   "pygments_lexer": "ipython3",
   "version": "3.10.5"
  },
  "orig_nbformat": 4,
  "vscode": {
   "interpreter": {
    "hash": "369f2c481f4da34e4445cda3fffd2e751bd1c4d706f27375911949ba6bb62e1c"
   }
  }
 },
 "nbformat": 4,
 "nbformat_minor": 2
}
