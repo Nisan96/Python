{
 "cells": [
  {
   "cell_type": "code",
   "execution_count": null,
   "metadata": {},
   "outputs": [],
   "source": [
    "def getGreeting(name) :\n",
    "      if not name : \n",
    "        return \"Hello every body!\" \n",
    "      else: \n",
    "        return \"Hello \" + name\n",
    "\n",
    "greeting = getGreeting(\"asad\")  \n",
    "greeting     "
   ]
  },
  {
   "cell_type": "code",
   "execution_count": null,
   "metadata": {},
   "outputs": [],
   "source": [
    "# Fuction with required parameters\n",
    "def showInfo(name, gender):\n",
    "    return \"Name: \", name\n",
    "    return  \"Gender: \", gender\n",
    "showInfo(\"Tran\", \"Male\")    "
   ]
  },
  {
   "cell_type": "code",
   "execution_count": null,
   "metadata": {},
   "outputs": [],
   "source": [
    "def showInfo(name, gender):\n",
    "    print(\"Name: \", name)\n",
    "    print(\"Gender: \", gender)\n",
    "showInfo(\"Tran\", \"Male\")"
   ]
  },
  {
   "cell_type": "code",
   "execution_count": null,
   "metadata": {},
   "outputs": [],
   "source": [
    "def showInfo(name, gender):\n",
    "    print(\"Name: \", name)\n",
    "    print(\"Gender: \", gender)\n",
    "showInfo(\"Tran\")"
   ]
  },
  {
   "cell_type": "code",
   "execution_count": null,
   "metadata": {},
   "outputs": [],
   "source": [
    "# Function with default parameters\n",
    "def showInfo(name='Irina', gender='female'):\n",
    "    print(\"Name: \", name)\n",
    "    print(\"Gender: \", gender)\n",
    "showInfo(gender = \"male\")"
   ]
  },
  {
   "cell_type": "code",
   "execution_count": null,
   "metadata": {},
   "outputs": [],
   "source": [
    "def showInfo(name, gender =\"Male\", country =\"US\"):\n",
    "    print (\"Name:\", name)\n",
    "    print (\"Gender:\", gender)\n",
    "    print (\"Country:\", country)\n",
    "showInfo(\"Aladdin\", \"Male\", \"India\")"
   ]
  },
  {
   "cell_type": "code",
   "execution_count": null,
   "metadata": {},
   "outputs": [],
   "source": [
    "def showInfo(name, gender =\"Male\", country =\"US\"):\n",
    "    print (\"Name:\", name)\n",
    "    print (\"Gender:\", gender)\n",
    "    print (\"Country:\", country)\n",
    "showInfo(name = \"Monir\", country = \"India\")"
   ]
  },
  {
   "cell_type": "code",
   "execution_count": null,
   "metadata": {},
   "outputs": [],
   "source": [
    "# Function with variable length parameters\n",
    "def sumValues(a, b, *others):\n",
    "    retValue = a + b\n",
    "    for other in others :\n",
    "        retValue = retValue + other\n",
    "    return retValue\n",
    "a = sumValues(10,1)\n",
    "a"
   ]
  },
  {
   "cell_type": "code",
   "execution_count": null,
   "metadata": {},
   "outputs": [],
   "source": [
    "def sumValues(a,b,*others):\n",
    "    retValue = a + b\n",
    "    for other in others :\n",
    "        retValue = retValue + other\n",
    "    return retValue\n",
    "print(sumValues(10,1,1))\n",
    "print(sumValues(10,0,1,3,5))\n",
    "print(sumValues(10,2,89,78,5))\n"
   ]
  },
  {
   "cell_type": "markdown",
   "metadata": {},
   "source": [
    "# Function"
   ]
  },
  {
   "cell_type": "code",
   "execution_count": null,
   "metadata": {},
   "outputs": [],
   "source": [
    "def greet() -> None:    # By default this func returns Null value\n",
    "    print(\"Welcome Python\")\n",
    "    print(\"How may I help you?\")   "
   ]
  },
  {
   "cell_type": "code",
   "execution_count": null,
   "metadata": {},
   "outputs": [],
   "source": [
    "greet()"
   ]
  },
  {
   "cell_type": "code",
   "execution_count": null,
   "metadata": {},
   "outputs": [],
   "source": [
    "var = greet()\n",
    "var"
   ]
  },
  {
   "cell_type": "code",
   "execution_count": null,
   "metadata": {},
   "outputs": [],
   "source": [
    "var"
   ]
  },
  {
   "cell_type": "markdown",
   "metadata": {},
   "source": [
    "# Function with Arguements"
   ]
  },
  {
   "cell_type": "code",
   "execution_count": null,
   "metadata": {},
   "outputs": [],
   "source": [
    "def check(n: int) -> str:              # return string value and parameter is int type\n",
    "    '''\n",
    "    This will check even or odd number\n",
    "    >>> check(5)                       \n",
    "    >>>  Odd\n",
    "    '''   \n",
    "    if n%2 == 0:             \n",
    "        return \"Even\"\n",
    "    else:\n",
    "        return \"Odd\""
   ]
  },
  {
   "cell_type": "code",
   "execution_count": null,
   "metadata": {},
   "outputs": [],
   "source": [
    "var = check(8)        # here 8 is argument\n",
    "var"
   ]
  },
  {
   "cell_type": "code",
   "execution_count": null,
   "metadata": {},
   "outputs": [],
   "source": [
    "var = check(13)\n",
    "var"
   ]
  },
  {
   "cell_type": "markdown",
   "metadata": {},
   "source": [
    "# Dynamic *args"
   ]
  },
  {
   "cell_type": "code",
   "execution_count": null,
   "metadata": {},
   "outputs": [],
   "source": [
    "def check(*n: tuple(int)) -> str:                 # problem\n",
    "    '''\n",
    "    This will check even or odd number\n",
    "    >>> check(5)                       \n",
    "    >>>  Odd\n",
    "    ''' \n",
    "    print(n) \n",
    "    for i in n:\n",
    "        if i%2 == 0:\n",
    "            return \"Even\"     # after retturn function will close\n",
    "        else:\n",
    "            return \"Odd\" "
   ]
  },
  {
   "cell_type": "code",
   "execution_count": null,
   "metadata": {},
   "outputs": [],
   "source": [
    "a = check(2,3,6,7,8,94,7)\n",
    "a"
   ]
  },
  {
   "cell_type": "code",
   "execution_count": null,
   "metadata": {},
   "outputs": [],
   "source": [
    "def check(*n: tuple[int]) -> str:                 \n",
    "    '''\n",
    "    This will check even or odd number\n",
    "    >>> check(5)                       \n",
    "    >>>  Odd\n",
    "    ''' \n",
    "    print(n) \n",
    "    for i in n:\n",
    "        if i%2 == 0:\n",
    "            print(\"even\")          \n",
    "        else:\n",
    "            print(\"odd\") "
   ]
  },
  {
   "cell_type": "code",
   "execution_count": null,
   "metadata": {},
   "outputs": [],
   "source": [
    "a = check(1,2,4,56,74,67,5,6,8)\n",
    "a"
   ]
  },
  {
   "cell_type": "code",
   "execution_count": null,
   "metadata": {},
   "outputs": [],
   "source": [
    "def check(*n: tuple[int]) -> list:                 \n",
    "    '''\n",
    "    This will check even or odd number\n",
    "    >>> check(5)                       \n",
    "    >>>  Odd\n",
    "    ''' \n",
    "    print(type(n))\n",
    "    res = []\n",
    "    print(n) \n",
    "    for i in n:\n",
    "        if i%2 == 0:\n",
    "            res.append(\"Even\")         \n",
    "        else:\n",
    "            res.append(\"Odd\") \n",
    "    return res        "
   ]
  },
  {
   "cell_type": "code",
   "execution_count": null,
   "metadata": {},
   "outputs": [],
   "source": [
    "a = check(1,2,4,56,74,67,5,6,8)\n",
    "a"
   ]
  },
  {
   "cell_type": "markdown",
   "metadata": {},
   "source": [
    "# positional argument"
   ]
  },
  {
   "cell_type": "code",
   "execution_count": null,
   "metadata": {},
   "outputs": [],
   "source": [
    "def check(num:int,div:int) -> bool:                 \n",
    "    '''\n",
    "    This will check True or False number\n",
    "    >>> check(4,2)                       \n",
    "    >>>  True\n",
    "    '''  \n",
    "    if num % div == 0:\n",
    "        return True         \n",
    "    else:\n",
    "        return False"
   ]
  },
  {
   "cell_type": "code",
   "execution_count": null,
   "metadata": {},
   "outputs": [],
   "source": [
    "a = check(2,4)     # here 2 goes to num and 4 goes to div\n",
    "a"
   ]
  },
  {
   "cell_type": "code",
   "execution_count": null,
   "metadata": {},
   "outputs": [],
   "source": [
    "a = check(4,2)     # here 4 goes to num and 2 goes to div\n",
    "a"
   ]
  },
  {
   "cell_type": "markdown",
   "metadata": {},
   "source": [
    "# keyword Arguments"
   ]
  },
  {
   "cell_type": "code",
   "execution_count": null,
   "metadata": {},
   "outputs": [],
   "source": [
    "def check(num:int = 4,div:int = 2) -> bool:                 \n",
    "    '''\n",
    "    This will check True or False number\n",
    "    >>> check(4,2)                       \n",
    "    >>>  True\n",
    "    '''  \n",
    "    if num % div == 0:\n",
    "        return True         \n",
    "    else:\n",
    "        return False"
   ]
  },
  {
   "cell_type": "code",
   "execution_count": null,
   "metadata": {},
   "outputs": [],
   "source": [
    "a = check() \n",
    "a    "
   ]
  },
  {
   "cell_type": "code",
   "execution_count": null,
   "metadata": {},
   "outputs": [],
   "source": [
    "def check(num:int = 4,div:int = 2) -> bool:                 \n",
    "    '''\n",
    "    This will check True or False number\n",
    "    >>> check(4,2)                       \n",
    "    >>>  True\n",
    "    '''  \n",
    "    if num % div == 0:\n",
    "        return True         \n",
    "    else:\n",
    "        return False"
   ]
  },
  {
   "cell_type": "code",
   "execution_count": null,
   "metadata": {},
   "outputs": [],
   "source": [
    "a = check(9,4)   # here 9 and 4 override default arguments\n",
    "a "
   ]
  },
  {
   "cell_type": "code",
   "execution_count": null,
   "metadata": {},
   "outputs": [],
   "source": [
    "a = check(div=5,num=25)    # keyword argument\n",
    "a"
   ]
  },
  {
   "cell_type": "code",
   "execution_count": null,
   "metadata": {},
   "outputs": [],
   "source": [
    "a = check(9,div=3)   # always first positional argument then keyword argument\n",
    "a "
   ]
  },
  {
   "cell_type": "markdown",
   "metadata": {},
   "source": [
    "# **kwargs"
   ]
  },
  {
   "cell_type": "code",
   "execution_count": null,
   "metadata": {},
   "outputs": [],
   "source": [
    "# here first * use for key and another * use for value\n",
    "def getinfo(**biodata) -> dict:\n",
    "    return biodata"
   ]
  },
  {
   "cell_type": "code",
   "execution_count": null,
   "metadata": {},
   "outputs": [],
   "source": [
    "g = getinfo(name='ashraf',age=27,email='nayan@gmail.com',phone='01772693406')\n",
    "g\n"
   ]
  },
  {
   "cell_type": "code",
   "execution_count": null,
   "metadata": {},
   "outputs": [],
   "source": [
    "def getinfo(**biodata) -> dict:\n",
    "    res = {}\n",
    "    for key,val in biodata.items():\n",
    "        res[key] = val\n",
    "    return res    "
   ]
  },
  {
   "cell_type": "code",
   "execution_count": null,
   "metadata": {},
   "outputs": [],
   "source": [
    "g = getinfo(name='ashraf',age=27,email='nayan@gmail.com',phone='01772693406')\n",
    "g"
   ]
  },
  {
   "cell_type": "code",
   "execution_count": null,
   "metadata": {},
   "outputs": [],
   "source": [
    "def getinfo(username,**biodata) -> dict:\n",
    "    print(username)\n",
    "    res = {}\n",
    "    for key,val in biodata.items():\n",
    "        res[key] = val\n",
    "    return res    "
   ]
  },
  {
   "cell_type": "code",
   "execution_count": null,
   "metadata": {},
   "outputs": [],
   "source": [
    "g = getinfo('ashraf',age=27,email='nayan@gmail.com',phone='01772693406')\n",
    "g"
   ]
  },
  {
   "cell_type": "code",
   "execution_count": null,
   "metadata": {},
   "outputs": [],
   "source": [
    "def getinfo(**biodata,username) -> dict:\n",
    "    print(username)\n",
    "    res = {}\n",
    "    for key,val in biodata.items():\n",
    "        res[key] = val\n",
    "    return res    "
   ]
  },
  {
   "cell_type": "code",
   "execution_count": null,
   "metadata": {},
   "outputs": [],
   "source": [
    "def getinfo(*username,**biodata) -> dict:\n",
    "    user = []\n",
    "    for v in username:\n",
    "        user.append(v)\n",
    "    print(user)    \n",
    "    res = {}\n",
    "    for key,val in biodata.items():\n",
    "        res[key] = val\n",
    "    return res    "
   ]
  },
  {
   "cell_type": "code",
   "execution_count": null,
   "metadata": {},
   "outputs": [],
   "source": [
    "g = getinfo('ashraf','faysal','sourav',age=27,email='nayan@gmail.com',phone='01772693406')\n",
    "g"
   ]
  },
  {
   "cell_type": "code",
   "execution_count": null,
   "metadata": {},
   "outputs": [],
   "source": [
    "def getinfo(*username,**biodata) -> dict:\n",
    "    print(username) \n",
    "    res = {}\n",
    "    for key,val in biodata.items():\n",
    "        res[key] = val\n",
    "    return res    "
   ]
  },
  {
   "cell_type": "code",
   "execution_count": null,
   "metadata": {},
   "outputs": [],
   "source": [
    "g = getinfo('ashraf','faysal','sourav',age=27,email='nayan@gmail.com',phone='01772693406')\n",
    "g"
   ]
  },
  {
   "cell_type": "markdown",
   "metadata": {},
   "source": [
    "# Recursion"
   ]
  },
  {
   "cell_type": "code",
   "execution_count": null,
   "metadata": {},
   "outputs": [],
   "source": [
    "'''sum = 0\n",
    "for i in range(1,11):\n",
    "    sum = sum + i\n",
    "sum '''   "
   ]
  },
  {
   "cell_type": "code",
   "execution_count": null,
   "metadata": {},
   "outputs": [],
   "source": [
    "#sum = 0\n",
    "def summ(i):\n",
    "    if i <= 10:\n",
    "        return  i + summ(i+1)\n",
    "    else:\n",
    "        return 0\n",
    "a = summ(0)\n",
    "a"
   ]
  },
  {
   "cell_type": "code",
   "execution_count": null,
   "metadata": {},
   "outputs": [],
   "source": [
    "def summ(i):\n",
    "    if i > 0:\n",
    "        return  i + summ(i-1)\n",
    "    else:\n",
    "        return 0\n",
    "a = summ(10)\n",
    "a"
   ]
  },
  {
   "cell_type": "code",
   "execution_count": null,
   "metadata": {},
   "outputs": [],
   "source": [
    "# Factorial\n",
    "def factorial(n):\n",
    "    if n in [0,1]:\n",
    "        return 1\n",
    "    return n * factorial(n-1)\n",
    "i = int(input(\"enter number:\"))    \n",
    "factorial(i)        "
   ]
  }
 ],
 "metadata": {
  "kernelspec": {
   "display_name": "Python 3.10.5 64-bit",
   "language": "python",
   "name": "python3"
  },
  "language_info": {
   "codemirror_mode": {
    "name": "ipython",
    "version": 3
   },
   "file_extension": ".py",
   "mimetype": "text/x-python",
   "name": "python",
   "nbconvert_exporter": "python",
   "pygments_lexer": "ipython3",
   "version": "3.10.5"
  },
  "orig_nbformat": 4,
  "vscode": {
   "interpreter": {
    "hash": "369f2c481f4da34e4445cda3fffd2e751bd1c4d706f27375911949ba6bb62e1c"
   }
  }
 },
 "nbformat": 4,
 "nbformat_minor": 2
}
