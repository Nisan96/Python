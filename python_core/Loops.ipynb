{
 "cells": [
  {
   "cell_type": "markdown",
   "metadata": {},
   "source": [
    "# While Loop"
   ]
  },
  {
   "cell_type": "code",
   "execution_count": null,
   "metadata": {},
   "outputs": [],
   "source": [
    "# while loop is condition based loop\n",
    "start,stop = 1,5\n",
    "while start <= stop:\n",
    "    print(start)\n",
    "    start += 1"
   ]
  },
  {
   "cell_type": "code",
   "execution_count": null,
   "metadata": {},
   "outputs": [],
   "source": [
    "start,stop = 1,5\n",
    "while start <= stop:\n",
    "    start += 1\n",
    "    print(start)\n",
    "    #start += 1"
   ]
  },
  {
   "cell_type": "code",
   "execution_count": null,
   "metadata": {},
   "outputs": [],
   "source": [
    "start,stop = 5,1\n",
    "while start >= stop:\n",
    "    print(start*2)\n",
    "    start -= 1"
   ]
  },
  {
   "cell_type": "code",
   "execution_count": null,
   "metadata": {},
   "outputs": [],
   "source": [
    "start,stop = 5,1\n",
    "while start >= stop:\n",
    "    start -= 1\n",
    "    print(start)\n",
    "    #start -= 1"
   ]
  },
  {
   "cell_type": "markdown",
   "metadata": {},
   "source": [
    "# For Loop"
   ]
  },
  {
   "cell_type": "code",
   "execution_count": null,
   "metadata": {},
   "outputs": [],
   "source": [
    "type(range(1,5))"
   ]
  },
  {
   "cell_type": "code",
   "execution_count": null,
   "metadata": {},
   "outputs": [],
   "source": [
    "list(range(1,5))"
   ]
  },
  {
   "cell_type": "code",
   "execution_count": null,
   "metadata": {},
   "outputs": [],
   "source": [
    "list(range(1,6))"
   ]
  },
  {
   "cell_type": "code",
   "execution_count": null,
   "metadata": {},
   "outputs": [],
   "source": [
    "for num in range(1,6):\n",
    "    print(num*2)"
   ]
  },
  {
   "cell_type": "code",
   "execution_count": null,
   "metadata": {},
   "outputs": [],
   "source": [
    "s = \"Python\"\n",
    "for ch in s:\n",
    "    print(ch)"
   ]
  },
  {
   "cell_type": "code",
   "execution_count": null,
   "metadata": {},
   "outputs": [],
   "source": [
    "for num in [1,4,6,34,42,12,36]:\n",
    "    print(num)"
   ]
  },
  {
   "cell_type": "code",
   "execution_count": null,
   "metadata": {},
   "outputs": [],
   "source": [
    "for num in (1,4,6,34,42,12,36):\n",
    "    print(num)"
   ]
  },
  {
   "cell_type": "code",
   "execution_count": null,
   "metadata": {},
   "outputs": [],
   "source": [
    "for num in {1,4,6,34,42,12,36}:\n",
    "    print(num)"
   ]
  },
  {
   "cell_type": "code",
   "execution_count": null,
   "metadata": {},
   "outputs": [],
   "source": [
    "std = {'name': 'Ashraf','roll': 12,'dept':'CSE'}\n",
    "for a in std:\n",
    "    print(a)"
   ]
  },
  {
   "cell_type": "code",
   "execution_count": null,
   "metadata": {},
   "outputs": [],
   "source": [
    "std = {'name': 'Ashraf','roll': 12,'dept':'CSE'}\n",
    "for a in std.values():\n",
    "    print(a)"
   ]
  },
  {
   "cell_type": "code",
   "execution_count": null,
   "metadata": {},
   "outputs": [],
   "source": [
    "std = {'name': 'Ashraf','roll': 12,'dept':'CSE'}\n",
    "for a in std.keys():\n",
    "    print(a)"
   ]
  },
  {
   "cell_type": "code",
   "execution_count": null,
   "metadata": {},
   "outputs": [],
   "source": [
    "std = {'name': 'Nayan','roll': 12,'dept':'CSE'}\n",
    "for a in std.items():\n",
    "    print(a)"
   ]
  },
  {
   "cell_type": "code",
   "execution_count": null,
   "metadata": {},
   "outputs": [],
   "source": [
    "std = {'name': 'Nayan','roll': 12,'dept':'CSE'}\n",
    "for a,b in std.items():                     # multiple assignment in loop\n",
    "    print(a,\":\",b)"
   ]
  },
  {
   "cell_type": "code",
   "execution_count": null,
   "metadata": {},
   "outputs": [],
   "source": [
    "for n1,n2,n3 in [(1,2,3),(4,5,6),(7,8,9)]:\n",
    "    print(n1+n2+n3)\n"
   ]
  },
  {
   "cell_type": "code",
   "execution_count": null,
   "metadata": {},
   "outputs": [],
   "source": [
    "for row in [(1,2,3,6),(4,5,6),(7,8,9)]:\n",
    "    for col in row:\n",
    "        print(col, end = \" \")\n",
    "    print('\\n')\n",
    "    #print()\n",
    "    #print(\"---\")\n",
    "\n"
   ]
  },
  {
   "cell_type": "code",
   "execution_count": null,
   "metadata": {},
   "outputs": [],
   "source": [
    "for num in [(1,2,3),(4,5,6,8),45,(56,78),57,56]:\n",
    "    if type(num) == tuple:\n",
    "        for n in num:\n",
    "            print(n)\n",
    "    else:\n",
    "        print(num)        "
   ]
  },
  {
   "cell_type": "markdown",
   "metadata": {},
   "source": [
    "# break"
   ]
  },
  {
   "cell_type": "code",
   "execution_count": 2,
   "metadata": {},
   "outputs": [
    {
     "name": "stdout",
     "output_type": "stream",
     "text": [
      "Searching\n",
      "Searching\n",
      "Searching\n",
      "Searching\n",
      "Found data!\n",
      "Searching\n",
      "Searching\n",
      "Searching\n",
      "Done\n"
     ]
    }
   ],
   "source": [
    "for num in (1,2,3,4,526,62,47):\n",
    "    if num == 526:\n",
    "        print(\"Found data!\")\n",
    "    print(\"Searching\")\n",
    "print(\"Done\")"
   ]
  },
  {
   "cell_type": "code",
   "execution_count": 1,
   "metadata": {},
   "outputs": [
    {
     "name": "stdout",
     "output_type": "stream",
     "text": [
      "Searching\n",
      "Searching\n",
      "Searching\n",
      "Searching\n",
      "Found data!\n",
      "Done\n"
     ]
    }
   ],
   "source": [
    "for num in (1,2,3,4,526,62,47):\n",
    "    if num == 526:\n",
    "        print(\"Found data!\")\n",
    "        break\n",
    "    print(\"Searching\")\n",
    "print(\"Done\")\n"
   ]
  },
  {
   "cell_type": "code",
   "execution_count": 5,
   "metadata": {},
   "outputs": [
    {
     "name": "stdout",
     "output_type": "stream",
     "text": [
      "2\n",
      "4\n",
      "6\n",
      "8\n",
      "Found data!\n",
      "Done\n"
     ]
    }
   ],
   "source": [
    "for num in (1,2,3,4,526,62,47):\n",
    "    if num == 526:\n",
    "        print(\"Found data!\")\n",
    "        break\n",
    "    print(num*2)\n",
    "print(\"Done\")"
   ]
  },
  {
   "cell_type": "code",
   "execution_count": 4,
   "metadata": {},
   "outputs": [
    {
     "name": "stdout",
     "output_type": "stream",
     "text": [
      "2\n",
      "4\n",
      "6\n",
      "8\n",
      "Found data!\n",
      "124\n",
      "94\n",
      "Done\n"
     ]
    }
   ],
   "source": [
    "for num in (1,2,3,4,526,62,47):\n",
    "    if num == 526:\n",
    "        print(\"Found data!\")\n",
    "        continue\n",
    "    print(num*2)\n",
    "print(\"Done\")"
   ]
  }
 ],
 "metadata": {
  "kernelspec": {
   "display_name": "Python 3.10.5 64-bit",
   "language": "python",
   "name": "python3"
  },
  "language_info": {
   "codemirror_mode": {
    "name": "ipython",
    "version": 3
   },
   "file_extension": ".py",
   "mimetype": "text/x-python",
   "name": "python",
   "nbconvert_exporter": "python",
   "pygments_lexer": "ipython3",
   "version": "3.10.5"
  },
  "orig_nbformat": 4,
  "vscode": {
   "interpreter": {
    "hash": "369f2c481f4da34e4445cda3fffd2e751bd1c4d706f27375911949ba6bb62e1c"
   }
  }
 },
 "nbformat": 4,
 "nbformat_minor": 2
}
