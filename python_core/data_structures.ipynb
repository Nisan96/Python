{
 "cells": [
  {
   "cell_type": "markdown",
   "metadata": {},
   "source": [
    "# List[]"
   ]
  },
  {
   "cell_type": "code",
   "execution_count": 3,
   "metadata": {},
   "outputs": [
    {
     "name": "stdout",
     "output_type": "stream",
     "text": [
      "1935901861632\n"
     ]
    },
    {
     "data": {
      "text/plain": [
       "[23, 19, 21, 22, 31, 24, 25, 27]"
      ]
     },
     "execution_count": 3,
     "metadata": {},
     "output_type": "execute_result"
    }
   ],
   "source": [
    "var = [23, 19, 21, 22, 31, 24, 25, 27]\n",
    "print(id(var))\n",
    "var"
   ]
  },
  {
   "cell_type": "code",
   "execution_count": 2,
   "metadata": {},
   "outputs": [
    {
     "data": {
      "text/plain": [
       "[19, 21, 22, 31]"
      ]
     },
     "execution_count": 2,
     "metadata": {},
     "output_type": "execute_result"
    }
   ],
   "source": [
    "# Slicing\n",
    "var[1:5]"
   ]
  },
  {
   "cell_type": "code",
   "execution_count": 7,
   "metadata": {},
   "outputs": [
    {
     "name": "stdout",
     "output_type": "stream",
     "text": [
      "1935901861632\n",
      "1935901861632\n"
     ]
    },
    {
     "data": {
      "text/plain": [
       "[23, 20, 17, 18, 19, 24, 25, 27]"
      ]
     },
     "execution_count": 7,
     "metadata": {},
     "output_type": "execute_result"
    }
   ],
   "source": [
    "# Update\n",
    "var[1] = 20\n",
    "print(id(var))\n",
    "var[2:5] = 17,18,19\n",
    "print(id(var))\n",
    "var"
   ]
  },
  {
   "cell_type": "code",
   "execution_count": 10,
   "metadata": {},
   "outputs": [
    {
     "name": "stdout",
     "output_type": "stream",
     "text": [
      "[23, 17, 18, 19, 24, 25, 27]\n",
      "[23, 18, 19, 24, 25, 27]\n",
      "1935901861632\n"
     ]
    }
   ],
   "source": [
    "# Delete\n",
    "var[1]\n",
    "print(var)\n",
    "del var[1]\n",
    "print(var)\n",
    "print(id(var))"
   ]
  },
  {
   "cell_type": "code",
   "execution_count": 17,
   "metadata": {},
   "outputs": [],
   "source": [
    "del var"
   ]
  },
  {
   "cell_type": "code",
   "execution_count": 18,
   "metadata": {},
   "outputs": [
    {
     "name": "stdout",
     "output_type": "stream",
     "text": [
      "1935938077120\n"
     ]
    },
    {
     "data": {
      "text/plain": [
       "[23, 19, 21, 22, 31, 24, 25, 27]"
      ]
     },
     "execution_count": 18,
     "metadata": {},
     "output_type": "execute_result"
    }
   ],
   "source": [
    "# Methods\n",
    "var = [23, 19, 21, 22, 31, 24, 25, 27]\n",
    "print(id(var))\n",
    "var"
   ]
  },
  {
   "cell_type": "code",
   "execution_count": 28,
   "metadata": {},
   "outputs": [
    {
     "name": "stdout",
     "output_type": "stream",
     "text": [
      "1935937710400\n"
     ]
    }
   ],
   "source": [
    "var = [23, 19, 21, 22, 31, 24, 25, 27]\n",
    "print(id(var))\n",
    "var.append(32)"
   ]
  },
  {
   "cell_type": "code",
   "execution_count": 29,
   "metadata": {},
   "outputs": [
    {
     "data": {
      "text/plain": [
       "1935937710400"
      ]
     },
     "execution_count": 29,
     "metadata": {},
     "output_type": "execute_result"
    }
   ],
   "source": [
    "var.insert(2,20)\n",
    "id(var)"
   ]
  },
  {
   "cell_type": "code",
   "execution_count": 37,
   "metadata": {},
   "outputs": [
    {
     "name": "stdout",
     "output_type": "stream",
     "text": [
      "31\n",
      "20\n"
     ]
    }
   ],
   "source": [
    "var.count(20)\n",
    "#var.index(24)\n",
    "print(var.pop())\n",
    "print(var.pop(2))"
   ]
  },
  {
   "cell_type": "code",
   "execution_count": 40,
   "metadata": {},
   "outputs": [
    {
     "ename": "ValueError",
     "evalue": "list.remove(x): x not in list",
     "output_type": "error",
     "traceback": [
      "\u001b[1;31m---------------------------------------------------------------------------\u001b[0m",
      "\u001b[1;31mValueError\u001b[0m                                Traceback (most recent call last)",
      "\u001b[1;32me:\\Eiconik\\MLDS_1019\\python\\python_core\\data_structures.ipynb Cell 11\u001b[0m in \u001b[0;36m<cell line: 3>\u001b[1;34m()\u001b[0m\n\u001b[0;32m      <a href='vscode-notebook-cell:/e%3A/Eiconik/MLDS_1019/python/python_core/data_structures.ipynb#X14sZmlsZQ%3D%3D?line=0'>1</a>\u001b[0m var \u001b[39m=\u001b[39m [\u001b[39m23\u001b[39m, \u001b[39m19\u001b[39m, \u001b[39m21\u001b[39m, \u001b[39m22\u001b[39m, \u001b[39m31\u001b[39m, \u001b[39m24\u001b[39m, \u001b[39m25\u001b[39m, \u001b[39m27\u001b[39m]\n\u001b[0;32m      <a href='vscode-notebook-cell:/e%3A/Eiconik/MLDS_1019/python/python_core/data_structures.ipynb#X14sZmlsZQ%3D%3D?line=1'>2</a>\u001b[0m var\u001b[39m.\u001b[39mremove(\u001b[39m22\u001b[39m)\n\u001b[1;32m----> <a href='vscode-notebook-cell:/e%3A/Eiconik/MLDS_1019/python/python_core/data_structures.ipynb#X14sZmlsZQ%3D%3D?line=2'>3</a>\u001b[0m var\u001b[39m.\u001b[39;49mremove(\u001b[39m26\u001b[39;49m)\n",
      "\u001b[1;31mValueError\u001b[0m: list.remove(x): x not in list"
     ]
    }
   ],
   "source": [
    "var = [23, 19, 21, 22, 31, 24, 25, 27]\n",
    "var.remove(22)\n",
    "var.remove(26)"
   ]
  },
  {
   "cell_type": "code",
   "execution_count": 50,
   "metadata": {},
   "outputs": [
    {
     "name": "stdout",
     "output_type": "stream",
     "text": [
      "1935937977600\n",
      "1935937974272\n",
      "1935937977600\n",
      "None\n",
      "None\n"
     ]
    }
   ],
   "source": [
    "var = [23, 19, 21, 22, 31, 24, 25, 27]\n",
    "print(id(var))\n",
    "var1 =[47,56.7,34,7.90]\n",
    "print(id(var1))\n",
    "var.extend(var1)\n",
    "print(id(var))\n",
    "var.reverse()\n",
    "print(var.sort())\n",
    "print(var.sort(reverse=True))\n",
    "var[var.index(27)] = 27.8\n",
    "var.clear()"
   ]
  },
  {
   "cell_type": "markdown",
   "metadata": {},
   "source": [
    "## Shallow copy and deep copy"
   ]
  },
  {
   "cell_type": "code",
   "execution_count": 61,
   "metadata": {},
   "outputs": [
    {
     "name": "stdout",
     "output_type": "stream",
     "text": [
      "1935937705600\n",
      "1935937705600\n"
     ]
    }
   ],
   "source": [
    "# Shallow copy\n",
    "var1 =[47,56.7,34,7.90]\n",
    "var2 = var1\n",
    "print(id(var1))\n",
    "print(id(var2))\n",
    "var2.append(69)"
   ]
  },
  {
   "cell_type": "code",
   "execution_count": 63,
   "metadata": {},
   "outputs": [
    {
     "name": "stdout",
     "output_type": "stream",
     "text": [
      "1935937713216\n",
      "1935937705600\n"
     ]
    }
   ],
   "source": [
    "# Deep copy\n",
    "var3 = var1.copy()\n",
    "print(id(var3))\n",
    "print(id(var1))\n",
    "var3.append(100)"
   ]
  },
  {
   "cell_type": "markdown",
   "metadata": {},
   "source": [
    "# Tuple()"
   ]
  },
  {
   "cell_type": "code",
   "execution_count": 70,
   "metadata": {},
   "outputs": [],
   "source": [
    "tp =(47,56.7,34,7.90,'a','b')\n",
    "#tp[3] = 78                     # immutable\n",
    "#del tp[2]                      # immutable\n",
    "del tp"
   ]
  },
  {
   "cell_type": "code",
   "execution_count": 67,
   "metadata": {},
   "outputs": [
    {
     "ename": "TypeError",
     "evalue": "'str' object does not support item assignment",
     "output_type": "error",
     "traceback": [
      "\u001b[1;31m---------------------------------------------------------------------------\u001b[0m",
      "\u001b[1;31mTypeError\u001b[0m                                 Traceback (most recent call last)",
      "\u001b[1;32me:\\Eiconik\\MLDS_1019\\python\\python_core\\data_structures.ipynb Cell 18\u001b[0m in \u001b[0;36m<cell line: 2>\u001b[1;34m()\u001b[0m\n\u001b[0;32m      <a href='vscode-notebook-cell:/e%3A/Eiconik/MLDS_1019/python/python_core/data_structures.ipynb#X25sZmlsZQ%3D%3D?line=0'>1</a>\u001b[0m s \u001b[39m=\u001b[39m \u001b[39m'\u001b[39m\u001b[39mpython\u001b[39m\u001b[39m'\u001b[39m\n\u001b[1;32m----> <a href='vscode-notebook-cell:/e%3A/Eiconik/MLDS_1019/python/python_core/data_structures.ipynb#X25sZmlsZQ%3D%3D?line=1'>2</a>\u001b[0m s[\u001b[39m4\u001b[39;49m] \u001b[39m=\u001b[39m \u001b[39m'\u001b[39m\u001b[39mi\u001b[39m\u001b[39m'\u001b[39m\n",
      "\u001b[1;31mTypeError\u001b[0m: 'str' object does not support item assignment"
     ]
    }
   ],
   "source": [
    "s = 'python'\n",
    "s[4] = 'i'               # immutable"
   ]
  },
  {
   "cell_type": "code",
   "execution_count": 73,
   "metadata": {},
   "outputs": [
    {
     "data": {
      "text/plain": [
       "2"
      ]
     },
     "execution_count": 73,
     "metadata": {},
     "output_type": "execute_result"
    }
   ],
   "source": [
    "tp =(47,56.7,34,7.90,'a','b')\n",
    "tp.count(47)\n",
    "tp.index(34)"
   ]
  },
  {
   "cell_type": "markdown",
   "metadata": {},
   "source": [
    "# Set{}"
   ]
  },
  {
   "cell_type": "code",
   "execution_count": 83,
   "metadata": {},
   "outputs": [
    {
     "data": {
      "text/plain": [
       "{1, 2, 3, 4, 5, 6, 8}"
      ]
     },
     "execution_count": 83,
     "metadata": {},
     "output_type": "execute_result"
    }
   ],
   "source": [
    "st = {6,4,4,3,5,8,5,4,1,2,3}       # no duplicate\n",
    "st"
   ]
  },
  {
   "cell_type": "code",
   "execution_count": 85,
   "metadata": {},
   "outputs": [
    {
     "ename": "TypeError",
     "evalue": "'set' object is not subscriptable",
     "output_type": "error",
     "traceback": [
      "\u001b[1;31m---------------------------------------------------------------------------\u001b[0m",
      "\u001b[1;31mTypeError\u001b[0m                                 Traceback (most recent call last)",
      "\u001b[1;32me:\\Eiconik\\MLDS_1019\\python\\python_core\\data_structures.ipynb Cell 22\u001b[0m in \u001b[0;36m<cell line: 1>\u001b[1;34m()\u001b[0m\n\u001b[1;32m----> <a href='vscode-notebook-cell:/e%3A/Eiconik/MLDS_1019/python/python_core/data_structures.ipynb#X32sZmlsZQ%3D%3D?line=0'>1</a>\u001b[0m st[\u001b[39m1\u001b[39;49m]\n",
      "\u001b[1;31mTypeError\u001b[0m: 'set' object is not subscriptable"
     ]
    }
   ],
   "source": [
    "st[1]                # indexing not allowed because set is unorderd collection"
   ]
  },
  {
   "cell_type": "code",
   "execution_count": 90,
   "metadata": {},
   "outputs": [
    {
     "name": "stdout",
     "output_type": "stream",
     "text": [
      "1935938491936\n",
      "{1, 2, 3, 4, 5, 6, 34, 8, 7, 9, 89}\n",
      "1935938491936\n"
     ]
    },
    {
     "data": {
      "text/plain": [
       "{2, 4, 5, 8}"
      ]
     },
     "execution_count": 90,
     "metadata": {},
     "output_type": "execute_result"
    }
   ],
   "source": [
    "# Methods\n",
    "st = {6,4,4,3,5,8,5,4,1,2,3}\n",
    "print(id(st))\n",
    "st1 ={4,5,7,8,9,89,34,2}\n",
    "print(st.union(st1))\n",
    "print(id(st))\n",
    "st.intersection(st1)"
   ]
  },
  {
   "cell_type": "code",
   "execution_count": 93,
   "metadata": {},
   "outputs": [
    {
     "name": "stdout",
     "output_type": "stream",
     "text": [
      "{1, 3, 6}\n",
      "{89, 9, 34, 7}\n"
     ]
    },
    {
     "data": {
      "text/plain": [
       "{1, 3, 6, 7, 9, 34, 89}"
      ]
     },
     "execution_count": 93,
     "metadata": {},
     "output_type": "execute_result"
    }
   ],
   "source": [
    "print(st.difference(st1))\n",
    "print(st1.difference(st))\n",
    "st.symmetric_difference(st1)"
   ]
  },
  {
   "cell_type": "code",
   "execution_count": 96,
   "metadata": {},
   "outputs": [
    {
     "data": {
      "text/plain": [
       "{1, 3, 6}"
      ]
     },
     "execution_count": 96,
     "metadata": {},
     "output_type": "execute_result"
    }
   ],
   "source": [
    "st.difference(st1)\n",
    "st.difference_update(st1)\n",
    "st"
   ]
  },
  {
   "cell_type": "code",
   "execution_count": 100,
   "metadata": {},
   "outputs": [
    {
     "data": {
      "text/plain": [
       "False"
      ]
     },
     "execution_count": 100,
     "metadata": {},
     "output_type": "execute_result"
    }
   ],
   "source": [
    "st = {6,4,4,3,5,8,5,4,1,2,3}\n",
    "st.isdisjoint(st1)\n",
    "st.isdisjoint({56,35,68})\n",
    "st.issuperset(st1)\n",
    "st.issubset(st1)"
   ]
  },
  {
   "cell_type": "code",
   "execution_count": 102,
   "metadata": {},
   "outputs": [
    {
     "name": "stdout",
     "output_type": "stream",
     "text": [
      "1935938495968\n",
      "1935938495968\n"
     ]
    }
   ],
   "source": [
    "st = {6,4,4,3,5,8,5,4,1,2,3}\n",
    "print(id(st))\n",
    "st.add(47)\n",
    "print(id(st))"
   ]
  },
  {
   "cell_type": "code",
   "execution_count": 123,
   "metadata": {},
   "outputs": [
    {
     "name": "stdout",
     "output_type": "stream",
     "text": [
      "1936123870592\n"
     ]
    }
   ],
   "source": [
    "s1 = {1,2,3,4,5,6,6,89,45,34,69,8,5}\n",
    "s2 = {28,29,30,31,32}\n",
    "s1.isdisjoint(s2)\n",
    "s3 = {4,6,8,45,34}\n",
    "s1.issuperset(s3)\n",
    "s3.issubset(s1)\n",
    "s2.issubset(s1)\n",
    "print(id(s2))"
   ]
  },
  {
   "cell_type": "code",
   "execution_count": 140,
   "metadata": {},
   "outputs": [
    {
     "name": "stdout",
     "output_type": "stream",
     "text": [
      "1936125362464\n",
      "1936125362464\n",
      "1936125362464\n",
      "{4, 6, 7, 8, 9}\n"
     ]
    }
   ],
   "source": [
    "s2 = {4,6,7,8,9}\n",
    "print(id(s2))\n",
    "s2.add(40)\n",
    "print(id(s2))\n",
    "s2.discard(40)\n",
    "print(id(s2))\n",
    "print(s2)\n",
    "s2.discard(40)\n",
    "#s2.remove(40)\n",
    "s2.discard(46)\n",
    "s2.pop()\n",
    "s2.update({1,2,3,4})\n"
   ]
  }
 ],
 "metadata": {
  "kernelspec": {
   "display_name": "Python 3.10.5 64-bit",
   "language": "python",
   "name": "python3"
  },
  "language_info": {
   "codemirror_mode": {
    "name": "ipython",
    "version": 3
   },
   "file_extension": ".py",
   "mimetype": "text/x-python",
   "name": "python",
   "nbconvert_exporter": "python",
   "pygments_lexer": "ipython3",
   "version": "3.10.5"
  },
  "orig_nbformat": 4,
  "vscode": {
   "interpreter": {
    "hash": "369f2c481f4da34e4445cda3fffd2e751bd1c4d706f27375911949ba6bb62e1c"
   }
  }
 },
 "nbformat": 4,
 "nbformat_minor": 2
}
