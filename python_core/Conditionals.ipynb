{
 "cells": [
  {
   "cell_type": "code",
   "execution_count": 1,
   "metadata": {},
   "outputs": [
    {
     "name": "stdout",
     "output_type": "stream",
     "text": [
      "Odd number\n"
     ]
    }
   ],
   "source": [
    "num = 45\n",
    "if num % 2 == 0:\n",
    "    print(\"Even number\")\n",
    "else:\n",
    "    print(\"Odd number\")"
   ]
  },
  {
   "cell_type": "code",
   "execution_count": 5,
   "metadata": {},
   "outputs": [
    {
     "name": "stdout",
     "output_type": "stream",
     "text": [
      "1\n",
      "True\n"
     ]
    }
   ],
   "source": [
    "num = 45\n",
    "print(num&1)  \n",
    "print(bool(num&1))          # by bitwise operation"
   ]
  },
  {
   "cell_type": "code",
   "execution_count": 4,
   "metadata": {},
   "outputs": [
    {
     "name": "stdout",
     "output_type": "stream",
     "text": [
      "0\n",
      "False\n"
     ]
    }
   ],
   "source": [
    "num = 44\n",
    "print(num&1) \n",
    "print(bool(num&1))"
   ]
  },
  {
   "cell_type": "code",
   "execution_count": 7,
   "metadata": {},
   "outputs": [
    {
     "name": "stdout",
     "output_type": "stream",
     "text": [
      "Even number\n"
     ]
    }
   ],
   "source": [
    "num = 44\n",
    "if num & 1:\n",
    "    print(\"Odd number\")\n",
    "else:\n",
    "    print(\"Even number\")"
   ]
  },
  {
   "cell_type": "code",
   "execution_count": 10,
   "metadata": {},
   "outputs": [
    {
     "name": "stdout",
     "output_type": "stream",
     "text": [
      "You got A+\n"
     ]
    }
   ],
   "source": [
    "# if elif else\n",
    "avg = int(input(\"Enter a avg value:\"))\n",
    "if avg >= 80:\n",
    "    print(\"You got A+\")\n",
    "elif avg >= 70:\n",
    "    print(\"You got A\")\n",
    "elif avg >= 60:\n",
    "    print(\"You got A-\")\n",
    "elif avg >= 50:\n",
    "    print(\"You got B\")\n",
    "elif avg >= 40:\n",
    "    print(\"You got pass mark\")\n",
    "else:\n",
    "    print(\"Go to Hell!\")         "
   ]
  },
  {
   "cell_type": "code",
   "execution_count": 13,
   "metadata": {},
   "outputs": [
    {
     "name": "stdout",
     "output_type": "stream",
     "text": [
      "You have green card\n"
     ]
    }
   ],
   "source": [
    "# nested if elif else\n",
    "age = int(input(\"Enter age:\"))\n",
    "salary = int(input(\"Enter salary:\"))\n",
    "\n",
    "if age > 18:\n",
    "    if salary < 10000:\n",
    "        print(\"TCB card is available for you\")\n",
    "    elif salary >= 10000 and salary <= 15000:\n",
    "        print(\"You can have bank account\")   \n",
    "    elif salary > 15000 and salary <= 25000:\n",
    "         print(\"Silver Credit card!\")  \n",
    "    elif salary > 25000 and salary <= 40000:\n",
    "         print(\"Gold Credit card!\")  \n",
    "    elif salary > 40000 and salary <= 60000:\n",
    "         print(\"Gold premium Credit card!\")\n",
    "    elif salary > 60000 and salary <= 100000:\n",
    "         print(\"Diamond Credit card!\")\n",
    "    else:\n",
    "         print(\"Platinum Credit card!!\")\n",
    "elif age > 15:\n",
    "    print(\"You have green card\")     \n",
    "else:\n",
    "    print(\"you are still achild!\")                   "
   ]
  },
  {
   "cell_type": "markdown",
   "metadata": {},
   "source": [
    "# Ternary Operations"
   ]
  },
  {
   "cell_type": "code",
   "execution_count": 1,
   "metadata": {},
   "outputs": [
    {
     "data": {
      "text/plain": [
       "'Odd'"
      ]
     },
     "execution_count": 1,
     "metadata": {},
     "output_type": "execute_result"
    }
   ],
   "source": [
    "num = 45\n",
    "result = ''\n",
    "if num % 2 == 0:\n",
    "    result = 'Even'\n",
    "else:\n",
    "    result = 'Odd' \n",
    "result       "
   ]
  },
  {
   "cell_type": "code",
   "execution_count": 2,
   "metadata": {},
   "outputs": [
    {
     "data": {
      "text/plain": [
       "'Odd'"
      ]
     },
     "execution_count": 2,
     "metadata": {},
     "output_type": "execute_result"
    }
   ],
   "source": [
    "# By using ternary operations\n",
    "num = 45\n",
    "result = 'Even' if num % 2 == 0 else 'Odd'\n",
    "result "
   ]
  },
  {
   "cell_type": "code",
   "execution_count": 3,
   "metadata": {},
   "outputs": [
    {
     "data": {
      "text/plain": [
       "56"
      ]
     },
     "execution_count": 3,
     "metadata": {},
     "output_type": "execute_result"
    }
   ],
   "source": [
    "a,b = 34,56\n",
    "largest = a if a>b else b\n",
    "largest"
   ]
  },
  {
   "cell_type": "code",
   "execution_count": 4,
   "metadata": {},
   "outputs": [
    {
     "data": {
      "text/plain": [
       "'both are equal'"
      ]
     },
     "execution_count": 4,
     "metadata": {},
     "output_type": "execute_result"
    }
   ],
   "source": [
    "a,b = 34,34\n",
    "largest = a if a>b else(b if b>a else 'both are equal')\n",
    "largest"
   ]
  },
  {
   "cell_type": "code",
   "execution_count": 8,
   "metadata": {},
   "outputs": [
    {
     "data": {
      "text/plain": [
       "35"
      ]
     },
     "execution_count": 8,
     "metadata": {},
     "output_type": "execute_result"
    }
   ],
   "source": [
    "a,b,c = 34,35,35\n",
    "largest = a if a>b and a>c else(b if b>a and b>c else c)\n",
    "largest"
   ]
  }
 ],
 "metadata": {
  "kernelspec": {
   "display_name": "Python 3.10.5 64-bit",
   "language": "python",
   "name": "python3"
  },
  "language_info": {
   "codemirror_mode": {
    "name": "ipython",
    "version": 3
   },
   "file_extension": ".py",
   "mimetype": "text/x-python",
   "name": "python",
   "nbconvert_exporter": "python",
   "pygments_lexer": "ipython3",
   "version": "3.10.5"
  },
  "orig_nbformat": 4,
  "vscode": {
   "interpreter": {
    "hash": "369f2c481f4da34e4445cda3fffd2e751bd1c4d706f27375911949ba6bb62e1c"
   }
  }
 },
 "nbformat": 4,
 "nbformat_minor": 2
}
